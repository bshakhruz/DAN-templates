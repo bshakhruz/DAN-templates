{
  "nbformat": 4,
  "nbformat_minor": 0,
  "metadata": {
    "colab": {
      "provenance": [],
      "gpuType": "T4",
      "collapsed_sections": [
        "uFSCmiR4mAoN",
        "MreWcG6_ol7x"
      ],
      "toc_visible": true,
      "authorship_tag": "ABX9TyNiJjtpgemfhWlWkvSNW2Zg",
      "include_colab_link": true
    },
    "kernelspec": {
      "name": "python3",
      "display_name": "Python 3"
    },
    "language_info": {
      "name": "python"
    },
    "accelerator": "GPU"
  },
  "cells": [
    {
      "cell_type": "markdown",
      "metadata": {
        "id": "view-in-github",
        "colab_type": "text"
      },
      "source": [
        "<a href=\"https://colab.research.google.com/github/bshakhruz/DAN-templates/blob/main/DNN_video_analysis.ipynb\" target=\"_parent\"><img src=\"https://colab.research.google.com/assets/colab-badge.svg\" alt=\"Open In Colab\"/></a>"
      ]
    },
    {
      "cell_type": "markdown",
      "source": [
        "# Training Deep Neural Networks on Videos Using Google Colab\n",
        "---\n"
      ],
      "metadata": {
        "id": "vw7kfwB_Ond4"
      }
    },
    {
      "cell_type": "markdown",
      "source": [
        "# 1. Introduction to Google Colab\n",
        "\n",
        "Google Colab is a free cloud service based on Jupyter Notebooks that supports free GPU and TPU usage. It's ideal for machine learning, data analysis, and education. The platform eliminates the need for expensive hardware, making deep learning more accessible.\n",
        "\n"
      ],
      "metadata": {
        "id": "W1X96z7mRv8Z"
      }
    },
    {
      "cell_type": "markdown",
      "source": [
        "# 2. Setting up the Colab Environment\n",
        "\n",
        "- **Enable GPU/TPU**: Go to `Edit` > `Notebook Settings` or `Runtime` > `Change runtime type` and select GPU or TPU from the dropdown to accelerate your computations.\n",
        "\n",
        "**Checkpoint:** Remember to save your notebook now to preserve this setting.\n",
        "\n",
        "## Verifying the Accelerator Status\n",
        "\n",
        "After enabling the hardware accelerator, run the following cell to confirm that it is active:\n"
      ],
      "metadata": {
        "id": "kuUXcEX2Qp67"
      }
    },
    {
      "cell_type": "code",
      "source": [
        "# Verify the hardware accelerator (GPU/TPU)\n",
        "import tensorflow as tf\n",
        "device_name = tf.test.gpu_device_name()\n",
        "if device_name != '/device:GPU:0':\n",
        "    print('No GPU found')\n",
        "else:\n",
        "    print('Found GPU at: {}'.format(device_name))"
      ],
      "metadata": {
        "id": "8hq3eWVtq5Pm"
      },
      "execution_count": null,
      "outputs": []
    },
    {
      "cell_type": "code",
      "source": [
        "## 3. Installing Dependencies\n",
        "!pip install --upgrade pip setuptools wheel\n",
        "!pip install tensorflow opencv-python-headless\n",
        "!pip3 install torch torchvision torchaudio"
      ],
      "metadata": {
        "id": "DIztlvGSSF0y",
        "colab": {
          "base_uri": "https://localhost:8080/",
          "height": 1000
        },
        "outputId": "7fa4c132-5ac9-4e0a-a6b5-e8c53c93b5c2"
      },
      "execution_count": 2,
      "outputs": [
        {
          "output_type": "stream",
          "name": "stdout",
          "text": [
            "Requirement already satisfied: pip in /usr/local/lib/python3.10/dist-packages (23.1.2)\n",
            "Collecting pip\n",
            "  Downloading pip-24.0-py3-none-any.whl (2.1 MB)\n",
            "\u001b[2K     \u001b[90m━━━━━━━━━━━━━━━━━━━━━━━━━━━━━━━━━━━━━━━━\u001b[0m \u001b[32m2.1/2.1 MB\u001b[0m \u001b[31m17.3 MB/s\u001b[0m eta \u001b[36m0:00:00\u001b[0m\n",
            "\u001b[?25hRequirement already satisfied: setuptools in /usr/local/lib/python3.10/dist-packages (67.7.2)\n",
            "Collecting setuptools\n",
            "  Downloading setuptools-69.2.0-py3-none-any.whl (821 kB)\n",
            "\u001b[2K     \u001b[90m━━━━━━━━━━━━━━━━━━━━━━━━━━━━━━━━━━━━━━━━\u001b[0m \u001b[32m821.5/821.5 kB\u001b[0m \u001b[31m28.7 MB/s\u001b[0m eta \u001b[36m0:00:00\u001b[0m\n",
            "\u001b[?25hRequirement already satisfied: wheel in /usr/local/lib/python3.10/dist-packages (0.43.0)\n",
            "Installing collected packages: setuptools, pip\n",
            "  Attempting uninstall: setuptools\n",
            "    Found existing installation: setuptools 67.7.2\n",
            "    Uninstalling setuptools-67.7.2:\n",
            "      Successfully uninstalled setuptools-67.7.2\n",
            "  Attempting uninstall: pip\n",
            "    Found existing installation: pip 23.1.2\n",
            "    Uninstalling pip-23.1.2:\n",
            "      Successfully uninstalled pip-23.1.2\n",
            "\u001b[31mERROR: pip's dependency resolver does not currently take into account all the packages that are installed. This behaviour is the source of the following dependency conflicts.\n",
            "ipython 7.34.0 requires jedi>=0.16, which is not installed.\u001b[0m\u001b[31m\n",
            "\u001b[0mSuccessfully installed pip-24.0 setuptools-69.2.0\n"
          ]
        },
        {
          "output_type": "display_data",
          "data": {
            "application/vnd.colab-display-data+json": {
              "pip_warning": {
                "packages": [
                  "_distutils_hack",
                  "pkg_resources",
                  "setuptools"
                ]
              },
              "id": "aceb8ec604f74e1daa16b45cf1066c5b"
            }
          },
          "metadata": {}
        },
        {
          "output_type": "stream",
          "name": "stdout",
          "text": [
            "Requirement already satisfied: tensorflow in /usr/local/lib/python3.10/dist-packages (2.15.0)\n",
            "Requirement already satisfied: opencv-python-headless in /usr/local/lib/python3.10/dist-packages (4.9.0.80)\n",
            "Requirement already satisfied: absl-py>=1.0.0 in /usr/local/lib/python3.10/dist-packages (from tensorflow) (1.4.0)\n",
            "Requirement already satisfied: astunparse>=1.6.0 in /usr/local/lib/python3.10/dist-packages (from tensorflow) (1.6.3)\n",
            "Requirement already satisfied: flatbuffers>=23.5.26 in /usr/local/lib/python3.10/dist-packages (from tensorflow) (24.3.25)\n",
            "Requirement already satisfied: gast!=0.5.0,!=0.5.1,!=0.5.2,>=0.2.1 in /usr/local/lib/python3.10/dist-packages (from tensorflow) (0.5.4)\n",
            "Requirement already satisfied: google-pasta>=0.1.1 in /usr/local/lib/python3.10/dist-packages (from tensorflow) (0.2.0)\n",
            "Requirement already satisfied: h5py>=2.9.0 in /usr/local/lib/python3.10/dist-packages (from tensorflow) (3.9.0)\n",
            "Requirement already satisfied: libclang>=13.0.0 in /usr/local/lib/python3.10/dist-packages (from tensorflow) (18.1.1)\n",
            "Requirement already satisfied: ml-dtypes~=0.2.0 in /usr/local/lib/python3.10/dist-packages (from tensorflow) (0.2.0)\n",
            "Requirement already satisfied: numpy<2.0.0,>=1.23.5 in /usr/local/lib/python3.10/dist-packages (from tensorflow) (1.25.2)\n",
            "Requirement already satisfied: opt-einsum>=2.3.2 in /usr/local/lib/python3.10/dist-packages (from tensorflow) (3.3.0)\n",
            "Requirement already satisfied: packaging in /usr/local/lib/python3.10/dist-packages (from tensorflow) (24.0)\n",
            "Requirement already satisfied: protobuf!=4.21.0,!=4.21.1,!=4.21.2,!=4.21.3,!=4.21.4,!=4.21.5,<5.0.0dev,>=3.20.3 in /usr/local/lib/python3.10/dist-packages (from tensorflow) (3.20.3)\n",
            "Requirement already satisfied: setuptools in /usr/local/lib/python3.10/dist-packages (from tensorflow) (69.2.0)\n",
            "Requirement already satisfied: six>=1.12.0 in /usr/local/lib/python3.10/dist-packages (from tensorflow) (1.16.0)\n",
            "Requirement already satisfied: termcolor>=1.1.0 in /usr/local/lib/python3.10/dist-packages (from tensorflow) (2.4.0)\n",
            "Requirement already satisfied: typing-extensions>=3.6.6 in /usr/local/lib/python3.10/dist-packages (from tensorflow) (4.10.0)\n",
            "Requirement already satisfied: wrapt<1.15,>=1.11.0 in /usr/local/lib/python3.10/dist-packages (from tensorflow) (1.14.1)\n",
            "Requirement already satisfied: tensorflow-io-gcs-filesystem>=0.23.1 in /usr/local/lib/python3.10/dist-packages (from tensorflow) (0.36.0)\n",
            "Requirement already satisfied: grpcio<2.0,>=1.24.3 in /usr/local/lib/python3.10/dist-packages (from tensorflow) (1.62.1)\n",
            "Requirement already satisfied: tensorboard<2.16,>=2.15 in /usr/local/lib/python3.10/dist-packages (from tensorflow) (2.15.2)\n",
            "Requirement already satisfied: tensorflow-estimator<2.16,>=2.15.0 in /usr/local/lib/python3.10/dist-packages (from tensorflow) (2.15.0)\n",
            "Requirement already satisfied: keras<2.16,>=2.15.0 in /usr/local/lib/python3.10/dist-packages (from tensorflow) (2.15.0)\n",
            "Requirement already satisfied: wheel<1.0,>=0.23.0 in /usr/local/lib/python3.10/dist-packages (from astunparse>=1.6.0->tensorflow) (0.43.0)\n",
            "Requirement already satisfied: google-auth<3,>=1.6.3 in /usr/local/lib/python3.10/dist-packages (from tensorboard<2.16,>=2.15->tensorflow) (2.27.0)\n",
            "Requirement already satisfied: google-auth-oauthlib<2,>=0.5 in /usr/local/lib/python3.10/dist-packages (from tensorboard<2.16,>=2.15->tensorflow) (1.2.0)\n",
            "Requirement already satisfied: markdown>=2.6.8 in /usr/local/lib/python3.10/dist-packages (from tensorboard<2.16,>=2.15->tensorflow) (3.6)\n",
            "Requirement already satisfied: requests<3,>=2.21.0 in /usr/local/lib/python3.10/dist-packages (from tensorboard<2.16,>=2.15->tensorflow) (2.31.0)\n",
            "Requirement already satisfied: tensorboard-data-server<0.8.0,>=0.7.0 in /usr/local/lib/python3.10/dist-packages (from tensorboard<2.16,>=2.15->tensorflow) (0.7.2)\n",
            "Requirement already satisfied: werkzeug>=1.0.1 in /usr/local/lib/python3.10/dist-packages (from tensorboard<2.16,>=2.15->tensorflow) (3.0.1)\n",
            "Requirement already satisfied: cachetools<6.0,>=2.0.0 in /usr/local/lib/python3.10/dist-packages (from google-auth<3,>=1.6.3->tensorboard<2.16,>=2.15->tensorflow) (5.3.3)\n",
            "Requirement already satisfied: pyasn1-modules>=0.2.1 in /usr/local/lib/python3.10/dist-packages (from google-auth<3,>=1.6.3->tensorboard<2.16,>=2.15->tensorflow) (0.4.0)\n",
            "Requirement already satisfied: rsa<5,>=3.1.4 in /usr/local/lib/python3.10/dist-packages (from google-auth<3,>=1.6.3->tensorboard<2.16,>=2.15->tensorflow) (4.9)\n",
            "Requirement already satisfied: requests-oauthlib>=0.7.0 in /usr/local/lib/python3.10/dist-packages (from google-auth-oauthlib<2,>=0.5->tensorboard<2.16,>=2.15->tensorflow) (1.3.1)\n",
            "Requirement already satisfied: charset-normalizer<4,>=2 in /usr/local/lib/python3.10/dist-packages (from requests<3,>=2.21.0->tensorboard<2.16,>=2.15->tensorflow) (3.3.2)\n",
            "Requirement already satisfied: idna<4,>=2.5 in /usr/local/lib/python3.10/dist-packages (from requests<3,>=2.21.0->tensorboard<2.16,>=2.15->tensorflow) (3.6)\n",
            "Requirement already satisfied: urllib3<3,>=1.21.1 in /usr/local/lib/python3.10/dist-packages (from requests<3,>=2.21.0->tensorboard<2.16,>=2.15->tensorflow) (2.0.7)\n",
            "Requirement already satisfied: certifi>=2017.4.17 in /usr/local/lib/python3.10/dist-packages (from requests<3,>=2.21.0->tensorboard<2.16,>=2.15->tensorflow) (2024.2.2)\n",
            "Requirement already satisfied: MarkupSafe>=2.1.1 in /usr/local/lib/python3.10/dist-packages (from werkzeug>=1.0.1->tensorboard<2.16,>=2.15->tensorflow) (2.1.5)\n",
            "Requirement already satisfied: pyasn1<0.7.0,>=0.4.6 in /usr/local/lib/python3.10/dist-packages (from pyasn1-modules>=0.2.1->google-auth<3,>=1.6.3->tensorboard<2.16,>=2.15->tensorflow) (0.6.0)\n",
            "Requirement already satisfied: oauthlib>=3.0.0 in /usr/local/lib/python3.10/dist-packages (from requests-oauthlib>=0.7.0->google-auth-oauthlib<2,>=0.5->tensorboard<2.16,>=2.15->tensorflow) (3.2.2)\n",
            "\u001b[33mWARNING: Running pip as the 'root' user can result in broken permissions and conflicting behaviour with the system package manager. It is recommended to use a virtual environment instead: https://pip.pypa.io/warnings/venv\u001b[0m\u001b[33m\n",
            "\u001b[0mRequirement already satisfied: torch in /usr/local/lib/python3.10/dist-packages (2.2.1+cu121)\n",
            "Requirement already satisfied: torchvision in /usr/local/lib/python3.10/dist-packages (0.17.1+cu121)\n",
            "Requirement already satisfied: torchaudio in /usr/local/lib/python3.10/dist-packages (2.2.1+cu121)\n",
            "Requirement already satisfied: filelock in /usr/local/lib/python3.10/dist-packages (from torch) (3.13.3)\n",
            "Requirement already satisfied: typing-extensions>=4.8.0 in /usr/local/lib/python3.10/dist-packages (from torch) (4.10.0)\n",
            "Requirement already satisfied: sympy in /usr/local/lib/python3.10/dist-packages (from torch) (1.12)\n",
            "Requirement already satisfied: networkx in /usr/local/lib/python3.10/dist-packages (from torch) (3.2.1)\n",
            "Requirement already satisfied: jinja2 in /usr/local/lib/python3.10/dist-packages (from torch) (3.1.3)\n",
            "Requirement already satisfied: fsspec in /usr/local/lib/python3.10/dist-packages (from torch) (2023.6.0)\n",
            "Collecting nvidia-cuda-nvrtc-cu12==12.1.105 (from torch)\n",
            "  Downloading nvidia_cuda_nvrtc_cu12-12.1.105-py3-none-manylinux1_x86_64.whl.metadata (1.5 kB)\n",
            "Collecting nvidia-cuda-runtime-cu12==12.1.105 (from torch)\n",
            "  Downloading nvidia_cuda_runtime_cu12-12.1.105-py3-none-manylinux1_x86_64.whl.metadata (1.5 kB)\n",
            "Collecting nvidia-cuda-cupti-cu12==12.1.105 (from torch)\n",
            "  Downloading nvidia_cuda_cupti_cu12-12.1.105-py3-none-manylinux1_x86_64.whl.metadata (1.6 kB)\n",
            "Collecting nvidia-cudnn-cu12==8.9.2.26 (from torch)\n",
            "  Downloading nvidia_cudnn_cu12-8.9.2.26-py3-none-manylinux1_x86_64.whl.metadata (1.6 kB)\n",
            "Collecting nvidia-cublas-cu12==12.1.3.1 (from torch)\n",
            "  Downloading nvidia_cublas_cu12-12.1.3.1-py3-none-manylinux1_x86_64.whl.metadata (1.5 kB)\n",
            "Collecting nvidia-cufft-cu12==11.0.2.54 (from torch)\n",
            "  Downloading nvidia_cufft_cu12-11.0.2.54-py3-none-manylinux1_x86_64.whl.metadata (1.5 kB)\n",
            "Collecting nvidia-curand-cu12==10.3.2.106 (from torch)\n",
            "  Downloading nvidia_curand_cu12-10.3.2.106-py3-none-manylinux1_x86_64.whl.metadata (1.5 kB)\n",
            "Collecting nvidia-cusolver-cu12==11.4.5.107 (from torch)\n",
            "  Downloading nvidia_cusolver_cu12-11.4.5.107-py3-none-manylinux1_x86_64.whl.metadata (1.6 kB)\n",
            "Collecting nvidia-cusparse-cu12==12.1.0.106 (from torch)\n",
            "  Downloading nvidia_cusparse_cu12-12.1.0.106-py3-none-manylinux1_x86_64.whl.metadata (1.6 kB)\n",
            "Collecting nvidia-nccl-cu12==2.19.3 (from torch)\n",
            "  Downloading nvidia_nccl_cu12-2.19.3-py3-none-manylinux1_x86_64.whl.metadata (1.8 kB)\n",
            "Collecting nvidia-nvtx-cu12==12.1.105 (from torch)\n",
            "  Downloading nvidia_nvtx_cu12-12.1.105-py3-none-manylinux1_x86_64.whl.metadata (1.7 kB)\n",
            "Requirement already satisfied: triton==2.2.0 in /usr/local/lib/python3.10/dist-packages (from torch) (2.2.0)\n",
            "Collecting nvidia-nvjitlink-cu12 (from nvidia-cusolver-cu12==11.4.5.107->torch)\n",
            "  Downloading nvidia_nvjitlink_cu12-12.4.99-py3-none-manylinux2014_x86_64.whl.metadata (1.5 kB)\n",
            "Requirement already satisfied: numpy in /usr/local/lib/python3.10/dist-packages (from torchvision) (1.25.2)\n",
            "Requirement already satisfied: pillow!=8.3.*,>=5.3.0 in /usr/local/lib/python3.10/dist-packages (from torchvision) (9.4.0)\n",
            "Requirement already satisfied: MarkupSafe>=2.0 in /usr/local/lib/python3.10/dist-packages (from jinja2->torch) (2.1.5)\n",
            "Requirement already satisfied: mpmath>=0.19 in /usr/local/lib/python3.10/dist-packages (from sympy->torch) (1.3.0)\n",
            "Downloading nvidia_cublas_cu12-12.1.3.1-py3-none-manylinux1_x86_64.whl (410.6 MB)\n",
            "\u001b[2K   \u001b[91m━━\u001b[0m\u001b[91m╸\u001b[0m\u001b[90m━━━━━━━━━━━━━━━━━━━━━━━━━━━━━━━━━━━━━\u001b[0m \u001b[32m30.0/410.6 MB\u001b[0m \u001b[31m210.0 MB/s\u001b[0m eta \u001b[36m0:00:02\u001b[0m\u001b[31mERROR: Operation cancelled by user\u001b[0m\u001b[31m\n",
            "\u001b[2KTraceback (most recent call last):\n",
            "\u001b[2K  File \"/usr/local/lib/python3.10/dist-packages/pip/_internal/cli/base_command.py\", line 180, in \n",
            "exc_logging_wrapper\n",
            "\u001b[2K    status = run_func(*args)\n",
            "\u001b[2K  File \"/usr/local/lib/python3.10/dist-packages/pip/_internal/cli/req_command.py\", line 245, in \n",
            "wrapper\n",
            "\u001b[2K    return func(self, options, args)\n",
            "\u001b[2K  File \"/usr/local/lib/python3.10/dist-packages/pip/_internal/commands/install.py\", line 377, in run\n",
            "\u001b[2K    requirement_set = resolver.resolve(\n",
            "\u001b[2K  File \"/usr/local/lib/python3.10/dist-packages/pip/_internal/resolution/resolvelib/resolver.py\", \n",
            "line 179, in resolve\n",
            "\u001b[2K    self.factory.preparer.prepare_linked_requirements_more(reqs)\n",
            "\u001b[2K  File \"/usr/local/lib/python3.10/dist-packages/pip/_internal/operations/prepare.py\", line 552, in \n",
            "prepare_linked_requirements_more\n",
            "\u001b[2K    self._complete_partial_requirements(\n",
            "\u001b[2K  File \"/usr/local/lib/python3.10/dist-packages/pip/_internal/operations/prepare.py\", line 467, in \n",
            "_complete_partial_requirements\n",
            "\u001b[2K    for link, (filepath, _) in batch_download:\n",
            "\u001b[2K  File \"/usr/local/lib/python3.10/dist-packages/pip/_internal/network/download.py\", line 184, in \n",
            "__call__\n",
            "\u001b[2K    content_file.write(chunk)\n",
            "\u001b[2KKeyboardInterrupt\n",
            "\u001b[2K\n",
            "During handling of the above exception, another exception occurred:\n",
            "\n",
            "\u001b[2KTraceback (most recent call last):\n",
            "\u001b[2K  File \"/usr/local/bin/pip3\", line 8, in <module>\n",
            "\u001b[2K    sys.exit(main())\n",
            "\u001b[2K  File \"/usr/local/lib/python3.10/dist-packages/pip/_internal/cli/main.py\", line 79, in main\n",
            "\u001b[2K    return command.main(cmd_args)\n",
            "\u001b[2K  File \"/usr/local/lib/python3.10/dist-packages/pip/_internal/cli/base_command.py\", line 101, in \n",
            "main\n",
            "\u001b[2K    return self._main(args)\n",
            "\u001b[2K  File \"/usr/local/lib/python3.10/dist-packages/pip/_internal/cli/base_command.py\", line 234, in \n",
            "_main\n",
            "\u001b[2K    return run(options, args)\n",
            "\u001b[2K  File \"/usr/local/lib/python3.10/dist-packages/pip/_internal/cli/base_command.py\", line 218, in \n",
            "exc_logging_wrapper\n",
            "\u001b[2K    logger.debug(\"Exception information:\", exc_info=True)\n",
            "\u001b[2K  File \"/usr/lib/python3.10/logging/__init__.py\", line 1465, in debug\n",
            "\u001b[2K    self._log(DEBUG, msg, args, **kwargs)\n",
            "\u001b[2K  File \"/usr/lib/python3.10/logging/__init__.py\", line 1624, in _log\n",
            "\u001b[2K    self.handle(record)\n",
            "\u001b[2K  File \"/usr/lib/python3.10/logging/__init__.py\", line 1634, in handle\n",
            "\u001b[2K    self.callHandlers(record)\n",
            "\u001b[2K  File \"/usr/lib/python3.10/logging/__init__.py\", line 1696, in callHandlers\n",
            "\u001b[2K    hdlr.handle(record)\n",
            "\u001b[2K  File \"/usr/lib/python3.10/logging/__init__.py\", line 968, in handle\n",
            "\u001b[2K    self.emit(record)\n",
            "\u001b[2K  File \"/usr/lib/python3.10/logging/handlers.py\", line 75, in emit\n",
            "\u001b[2K    logging.FileHandler.emit(self, record)\n",
            "\u001b[2K  File \"/usr/lib/python3.10/logging/__init__.py\", line 1218, in emit\n",
            "\u001b[2K    StreamHandler.emit(self, record)\n",
            "\u001b[2K  File \"/usr/lib/python3.10/logging/__init__.py\", line 1100, in emit\n",
            "\u001b[2K    msg = self.format(record)\n",
            "\u001b[2K  File \"/usr/lib/python3.10/logging/__init__.py\", line 943, in format\n",
            "\u001b[2K    return fmt.format(record)\n",
            "\u001b[2K  File \"/usr/local/lib/python3.10/dist-packages/pip/_internal/utils/logging.py\", line 112, in format\n",
            "\u001b[2K    formatted = super().format(record)\n",
            "\u001b[2K  File \"/usr/lib/python3.10/logging/__init__.py\", line 686, in format\n",
            "\u001b[2K    record.exc_text = self.formatException(record.exc_info)\n",
            "\u001b[2K  File \"/usr/lib/python3.10/logging/__init__.py\", line 636, in formatException\n",
            "\u001b[2K    traceback.print_exception(ei[0], ei[1], tb, None, sio)\n",
            "\u001b[2K  File \"/usr/lib/python3.10/traceback.py\", line 119, in print_exception\n",
            "\u001b[2K    te = TracebackException(type(value), value, tb, limit=limit, compact=True)\n",
            "\u001b[2K  File \"/usr/lib/python3.10/traceback.py\", line 502, in __init__\n",
            "\u001b[2K    self.stack = StackSummary.extract(\n",
            "\u001b[2K  File \"/usr/lib/python3.10/traceback.py\", line 370, in extract\n",
            "\u001b[2K    linecache.lazycache(filename, f.f_globals)\n",
            "\u001b[2K  File \"/usr/lib/python3.10/linecache.py\", line 176, in lazycache\n",
            "\u001b[2K    get_source = getattr(loader, 'get_source', None)\n",
            "\u001b[2KKeyboardInterrupt\n",
            "\u001b[2K   \u001b[91m━━━\u001b[0m\u001b[90m╺\u001b[0m\u001b[90m━━━━━━━━━━━━━━━━━━━━━━━━━━━━━━━━━━━━\u001b[0m \u001b[32m32.5/410.6 MB\u001b[0m \u001b[31m187.7 MB/s\u001b[0m eta \u001b[36m0:00:03\u001b[0m\n",
            "\u001b[?25h^C\n"
          ]
        }
      ]
    },
    {
      "cell_type": "code",
      "source": [
        "# Verify installation\n",
        "import tensorflow as tf\n",
        "import cv2\n",
        "import torch\n",
        "print(f'TensorFlow version: {tf.__version__}')\n",
        "print(f'OpenCV version: {cv2.__version__}')\n",
        "print(f'PyTorch version: {torch.__version__}')"
      ],
      "metadata": {
        "colab": {
          "base_uri": "https://localhost:8080/"
        },
        "id": "dpmCICN0rJ2D",
        "outputId": "9f4a5bbf-a047-4eb4-b42f-03e7b0895f3d"
      },
      "execution_count": 1,
      "outputs": [
        {
          "output_type": "stream",
          "name": "stdout",
          "text": [
            "TensorFlow version: 2.15.0\n",
            "OpenCV version: 4.8.0\n",
            "PyTorch version: 2.2.1+cu121\n"
          ]
        }
      ]
    },
    {
      "cell_type": "markdown",
      "source": [
        "# 3. Accessing and Preparing Video Data\n",
        "\n",
        "Training deep learning models on video data requires organizing and preprocessing your video files into a format that your model can process. This section guides you through accessing your video data, whether stored locally or on Google Drive, and details the preprocessing steps necessary to prepare the data for model training.\n",
        "\n",
        "## Preparing the Environment\n",
        "\n",
        "Before you start preprocessing your video data, you'll need to install some additional dependencies.\n"
      ],
      "metadata": {
        "id": "1wenL1i1UIEk"
      }
    },
    {
      "cell_type": "code",
      "source": [
        "# Installing Additional Dependencies for Preprocessing Phase\n",
        "!apt update && !apt install ffmpeg\n",
        "!pip install moviepy"
      ],
      "metadata": {
        "id": "mnxbVB1-SOnF",
        "colab": {
          "base_uri": "https://localhost:8080/"
        },
        "outputId": "dd9f9293-c0d8-470e-edbf-a582b97f2e7a"
      },
      "execution_count": null,
      "outputs": [
        {
          "output_type": "stream",
          "name": "stdout",
          "text": [
            "\u001b[33m\r0% [Working]\u001b[0m\r            \rGet:1 https://cloud.r-project.org/bin/linux/ubuntu jammy-cran40/ InRelease [3,626 B]\n",
            "Hit:2 https://developer.download.nvidia.com/compute/cuda/repos/ubuntu2204/x86_64  InRelease\n",
            "Get:3 http://security.ubuntu.com/ubuntu jammy-security InRelease [110 kB]\n",
            "Hit:4 http://archive.ubuntu.com/ubuntu jammy InRelease\n",
            "Hit:5 https://ppa.launchpadcontent.net/c2d4u.team/c2d4u4.0+/ubuntu jammy InRelease\n",
            "Get:6 http://archive.ubuntu.com/ubuntu jammy-updates InRelease [119 kB]\n",
            "Hit:7 https://ppa.launchpadcontent.net/deadsnakes/ppa/ubuntu jammy InRelease\n",
            "Hit:8 https://ppa.launchpadcontent.net/graphics-drivers/ppa/ubuntu jammy InRelease\n",
            "Hit:9 https://ppa.launchpadcontent.net/ubuntugis/ppa/ubuntu jammy InRelease\n",
            "Hit:10 http://archive.ubuntu.com/ubuntu jammy-backports InRelease\n",
            "Get:11 http://archive.ubuntu.com/ubuntu jammy-updates/main amd64 Packages [1,920 kB]\n",
            "Get:12 http://archive.ubuntu.com/ubuntu jammy-updates/universe amd64 Packages [1,357 kB]\n",
            "Fetched 3,510 kB in 4s (932 kB/s)\n",
            "Reading package lists... Done\n",
            "Building dependency tree... Done\n",
            "Reading state information... Done\n",
            "49 packages can be upgraded. Run 'apt list --upgradable' to see them.\n",
            "Reading package lists... Done\n",
            "Building dependency tree... Done\n",
            "Reading state information... Done\n",
            "ffmpeg is already the newest version (7:4.4.2-0ubuntu0.22.04.1).\n",
            "0 upgraded, 0 newly installed, 0 to remove and 49 not upgraded.\n",
            "Requirement already satisfied: moviepy in /usr/local/lib/python3.10/dist-packages (1.0.3)\n",
            "Requirement already satisfied: decorator<5.0,>=4.0.2 in /usr/local/lib/python3.10/dist-packages (from moviepy) (4.4.2)\n",
            "Requirement already satisfied: tqdm<5.0,>=4.11.2 in /usr/local/lib/python3.10/dist-packages (from moviepy) (4.66.2)\n",
            "Requirement already satisfied: requests<3.0,>=2.8.1 in /usr/local/lib/python3.10/dist-packages (from moviepy) (2.31.0)\n",
            "Requirement already satisfied: proglog<=1.0.0 in /usr/local/lib/python3.10/dist-packages (from moviepy) (0.1.10)\n",
            "Requirement already satisfied: numpy>=1.17.3 in /usr/local/lib/python3.10/dist-packages (from moviepy) (1.25.2)\n",
            "Requirement already satisfied: imageio<3.0,>=2.5 in /usr/local/lib/python3.10/dist-packages (from moviepy) (2.31.6)\n",
            "Requirement already satisfied: imageio-ffmpeg>=0.2.0 in /usr/local/lib/python3.10/dist-packages (from moviepy) (0.4.9)\n",
            "Requirement already satisfied: pillow<10.1.0,>=8.3.2 in /usr/local/lib/python3.10/dist-packages (from imageio<3.0,>=2.5->moviepy) (9.4.0)\n",
            "Requirement already satisfied: setuptools in /usr/local/lib/python3.10/dist-packages (from imageio-ffmpeg>=0.2.0->moviepy) (67.7.2)\n",
            "Requirement already satisfied: charset-normalizer<4,>=2 in /usr/local/lib/python3.10/dist-packages (from requests<3.0,>=2.8.1->moviepy) (3.3.2)\n",
            "Requirement already satisfied: idna<4,>=2.5 in /usr/local/lib/python3.10/dist-packages (from requests<3.0,>=2.8.1->moviepy) (3.6)\n",
            "Requirement already satisfied: urllib3<3,>=1.21.1 in /usr/local/lib/python3.10/dist-packages (from requests<3.0,>=2.8.1->moviepy) (2.0.7)\n",
            "Requirement already satisfied: certifi>=2017.4.17 in /usr/local/lib/python3.10/dist-packages (from requests<3.0,>=2.8.1->moviepy) (2024.2.2)\n"
          ]
        }
      ]
    },
    {
      "cell_type": "code",
      "source": [
        "# Mounting Google Drive (Optional)\n",
        "from google.colab import drive\n",
        "drive.mount('/content/drive')"
      ],
      "metadata": {
        "id": "i8jHmSoVUREH"
      },
      "execution_count": null,
      "outputs": []
    },
    {
      "cell_type": "code",
      "source": [
        "# This snippet loads a video, extract frames, and preprocess them,\n",
        "# NOTE: place your actual path in the 'video_path' variable\n",
        "\n",
        "# Necessary library imports\n",
        "import cv2\n",
        "import numpy as np\n",
        "import os\n",
        "from matplotlib import pyplot as plt\n",
        "from sklearn.model_selection import train_test_split\n",
        "\n",
        "# Placeholder for directory where videos are located\n",
        "video_directory = '<your_video_directory>'\n",
        "\n",
        "# List all video files in the directory\n",
        "video_files = [file for file in os.listdir(video_directory) if file.endswith('.mp4')]\n",
        "\n",
        "# Placeholder for labeling videos (replace with your own labels)\n",
        "video_labels = {\n",
        "    'video1.mp4': 0,\n",
        "    'video2.mp4': 1,\n",
        "    # Add as many videos as you have...\n",
        "}\n",
        "# Function to extract and preprocess frames\n",
        "def extract_and_preprocess_frames(video_path):\n",
        "    skip_frames=5\n",
        "    count=0\n",
        "    frames = []\n",
        "    cap = cv2.VideoCapture(video_path)\n",
        "    while cap.isOpened():\n",
        "        ret, frame = cap.read()\n",
        "        if not ret:\n",
        "            break\n",
        "        if count % skip_frames == 0:\n",
        "            # Preprocess steps (e.g., resizing, normalization)\n",
        "            frame_rgb = cv2.cvtColor(frame, cv2.COLOR_BGR2RGB)\n",
        "            resized_frame = cv2.resize(frame_rgb, (112, 112))  # Resize frame to model input size\n",
        "            frames.append(resized_frame / 255.0)  # Normalize pixel values\n",
        "        count += 1\n",
        "\n",
        "    cap.release()\n",
        "    return np.array(frames)\n",
        "\n",
        "# Process each video file\n",
        "all_frames = []\n",
        "for video_file in video_files:\n",
        "    video_path = os.path.join(video_directory, video_file)\n",
        "    processed_frames = extract_and_preprocess_frames(video_path)\n",
        "    print(f\"Processed {len(processed_frames)} frames from {video_file}\")\n",
        "    all_frames.append(processed_frames)  # Assuming you want to keep frames of all videos in one list\n",
        "\n",
        "labels = []\n",
        "for video_file, processed_frames in zip(video_files, all_frames):\n",
        "    label = video_labels[video_file]\n",
        "    # Extend the labels list with repeated labels for the number of frames in each video\n",
        "    labels.extend([label] * len(processed_frames))\n",
        "\n",
        "# Ensure processed_frames is correctly flattened\n",
        "processed_frames = np.concatenate(all_frames, axis=0)  # This should give you a flat array of all frames\n",
        "\n",
        "\n",
        "# After attempting to add all frames\n",
        "print(f\"Total videos processed: {len(all_frames)}\")\n",
        "if all_frames:\n",
        "    print(f\"Frames in first video: {len(all_frames[0])}\")\n",
        "else:\n",
        "    print(\"No videos were processed.\")\n",
        "if all_frames and len(all_frames[0]) > 0:\n",
        "    # Optionally, display a frame to verify preprocessing\n",
        "    plt.imshow(all_frames[0][0])\n",
        "    plt.axis('off')\n",
        "    plt.show()\n",
        "else:\n",
        "    print(\"No frames available to display.\")"
      ],
      "metadata": {
        "id": "FnsfWYTtVGON",
        "colab": {
          "base_uri": "https://localhost:8080/",
          "height": 562
        },
        "outputId": "86f63da6-9627-4d6a-ddb8-0a0c9b01e004"
      },
      "execution_count": null,
      "outputs": [
        {
          "output_type": "stream",
          "name": "stdout",
          "text": [
            "Processed 550 frames from Mr Bean (The Angriest Nanny Ever).mp4\n",
            "Processed 528 frames from Indoor Surfing _ Mr. Bean Cartoon.mp4\n",
            "Processed 234 frames from Peppa pig took over Mr Bean Intro Funny edited.mp4\n",
            "Processed 525 frames from Magpie Hospital _ Funny Clip _ Mr. Bean Cartoon.mp4\n",
            "Processed 448 frames from Mr Bean - Bad Customer Service.mp4\n",
            "Processed 231 frames from Mr. Bean Animated Series Theme Song [HD].mp4\n",
            "Processed 574 frames from Car chase for bottle _ Funny Clip _ Mr. Bean Official Cartoon.mp4\n",
            "Total videos processed: 7\n",
            "Frames in first video: 550\n"
          ]
        },
        {
          "output_type": "display_data",
          "data": {
            "text/plain": [
              "<Figure size 640x480 with 1 Axes>"
            ],
            "image/png": "[encoded data removed]"
          },
          "metadata": {}
        }
      ]
    },
    {
      "cell_type": "markdown",
      "source": [
        "# 4. Organizing the Dataset\n",
        "\n",
        "After preprocessing the video data, the next step is to organize the dataset into distinct sets for training, validation, and testing. This ensures that we can train our model, fine-tune hyperparameters, and evaluate performance effectively.\n",
        "\n",
        "## Splitting the Dataset\n",
        "\n",
        "We will use `train_test_split` from `sklearn` to partition the data. The `test_size` parameter determines the proportion of the dataset to include in the test split."
      ],
      "metadata": {
        "id": "-fLvTwYivbIY"
      }
    },
    {
      "cell_type": "code",
      "source": [
        "from sklearn.model_selection import train_test_split\n",
        "\n",
        "# Assuming 'processed_frames' contains all your preprocessed video frames\n",
        "# and 'labels' is an array of corresponding labels for each video.\n",
        "\n",
        "\n",
        "# Split the data into training and testing sets\n",
        "X_train, X_test, y_train, y_test = train_test_split(\n",
        "    processed_frames, labels, test_size=0.2, random_state=42\n",
        ")\n",
        "\n",
        "# Further split the training set to create a validation set\n",
        "X_train, X_val, y_train, y_val = train_test_split(\n",
        "    X_train, y_train, test_size=0.25, random_state=42\n",
        ")  # 0.25 x 0.8 = 0.2 of the original dataset # Adjust test_size as per your requirement\n",
        "\n",
        "\n",
        "# Note: Adjust the test_size parameter based on how much data you want to allocate for testing and validation.\n",
        "# Now X_train, X_val, and X_test along with y_train, y_val, and y_test are ready to be used in the model training process.\n",
        "\n",
        "# Save arrays to .npz file\n",
        "np.savez('/content/dataset_splits.npz', X_train=X_train, X_val=X_val, X_test=X_test, y_train=y_train, y_val=y_val, y_test=y_test)"
      ],
      "metadata": {
        "id": "U3QeNaW8h5_F"
      },
      "execution_count": null,
      "outputs": []
    },
    {
      "cell_type": "code",
      "source": [
        "# Save Data Splits\n",
        "import numpy as np\n",
        "\n",
        "# Replace '/content/dataset_splits.npz' with your preferred save path\n",
        "np.savez(\n",
        "    '/content/dataset_splits.npz',\n",
        "    X_train=X_train, X_val=X_val, X_test=X_test,\n",
        "    y_train=y_train, y_val=y_val, y_test=y_test\n",
        ")"
      ],
      "metadata": {
        "id": "D-SNmEnCwej_"
      },
      "execution_count": null,
      "outputs": []
    },
    {
      "cell_type": "markdown",
      "source": [
        "# 5. Data Augmentation (Optional)\n",
        "\n",
        "Data augmentation is an essential technique in the machine learning workflow, particularly when dealing with image and video data. By applying random transformations to your training data, you can artificially expand the size and variance of your dataset. This process is key to preventing overfitting and helps the model generalize better to new, unseen data.\n",
        "\n",
        "In this section, we'll use Keras's preprocessing layers to implement on-the-fly data augmentation.\n",
        "\n",
        "## Why Data Augmentation?\n",
        "\n",
        "- **Improves Generalization:** By simulating a broader set of variations, the model is less likely to memorize specific data points.\n",
        "- **Addresses Overfitting:** Especially in scenarios with limited data, augmentation can effectively increase the dataset size.\n",
        "- **Enhances Robustness:** Models trained with augmented data often perform better in real-world scenarios where data imperfections are common.\n",
        "\n",
        "## Implementing Data Augmentation\n",
        "\n",
        "The `ImageDataGenerator` class in Keras provides a suite of tools for on-the-fly image augmentation."
      ],
      "metadata": {
        "id": "6gd6OmF4L2RQ"
      }
    },
    {
      "cell_type": "code",
      "source": [
        "from tensorflow.keras.preprocessing.image import ImageDataGenerator\n",
        "import matplotlib.pyplot as plt\n",
        "\n",
        "# Define your data augmentation pipeline\n",
        "datagen = ImageDataGenerator(\n",
        "    rotation_range=40,        # Random rotations from 0 to 40 degrees\n",
        "    width_shift_range=0.2,    # Random horizontal shifts\n",
        "    height_shift_range=0.2,   # Random vertical shifts\n",
        "    shear_range=0.2,          # Shear transformations\n",
        "    zoom_range=0.2,           # Random zoom\n",
        "    horizontal_flip=True,     # Random horizontal flips\n",
        "    fill_mode='nearest'       # Strategy for filling in new pixels\n",
        ")\n",
        "\n",
        "# Visualization of Data Augmentation\n",
        "# Let's visualize some augmented examples to ensure our transformations are correct.\n",
        "x_sample = X_train[0]\n",
        "y_sample = y_train[0]\n",
        "\n",
        "# Generate and plot a batch of augmented images\n",
        "fig, axes = plt.subplots(1, 5, figsize=(20, 4))\n",
        "axes = axes.flatten()\n",
        "for ax in axes:\n",
        "    # Apply a random transformation\n",
        "    augmented_image = datagen.random_transform(x_sample)\n",
        "    ax.imshow(augmented_image)\n",
        "    ax.axis('off')\n",
        "plt.tight_layout()\n",
        "plt.show()\n",
        "\n",
        "# To use data augmentation during training, pass the datagen.flow(...) as the training data in model.fit\n",
        "# Example: model.fit(datagen.flow(X_train, y_train, batch_size=32), ...)"
      ],
      "metadata": {
        "id": "qWkw-w4fMFlO"
      },
      "execution_count": null,
      "outputs": []
    },
    {
      "cell_type": "markdown",
      "source": [
        "# 6. Overview of Different Architectures for Video Analysis\n",
        "\n",
        "Selecting the right architecture for video analysis is pivotal to the success of your machine learning project. Below, we delve into several popular architectures, highlighting their uses and explaining how they work. Understanding these will help you choose the best fit for your project's needs.\n",
        "\n",
        "## CNNs (Convolutional Neural Networks)\n",
        "\n",
        "- **Use:** Primarily for extracting spatial features from video frames.\n",
        "- **Explanation:** CNNs excel in identifying patterns, shapes, and textures within images, making them suitable for frame-level analysis.\n",
        "- **Foundational Papers:** [Gradient-based learning applied to document recognition by LeCun et al.](https://ieeexplore.ieee.org/document/726791)\n",
        "\n",
        "## RNN/LSTM/GRU\n",
        "\n",
        "- **Use:** Best for analyzing temporal dependencies in video sequences.\n",
        "- **Explanation:** RNNs and their variants, LSTM and GRU, are designed to model sequential data, capturing the temporal dynamics crucial for understanding video content over time.\n",
        "- **Foundational Papers:**\n",
        "  - RNN: [Finding Structure in Time by Elman.](https://crl.ucsd.edu/~elman/Papers/fsit.pdf)\n",
        "  - LSTM: [Long Short-Term Memory by Hochreiter & Schmidhuber.](https://www.bioinf.jku.at/publications/older/2604.pdf)\n",
        "  - GRU: [Learning Phrase Representations using RNN Encoder–Decoder for Statistical Machine Translation by Cho et al.](https://arxiv.org/abs/1406.1078)\n",
        "\n",
        "## 3D CNNs\n",
        "\n",
        "- **Use:** For analyzing videos by extracting both spatial and temporal features.\n",
        "- **Explanation:** By adding a time dimension to the convolutional layers, 3D CNNs can process sequences of frames, making them adept at recognizing actions and events in videos.\n",
        "- **Foundational Paper:** [3D Convolutional Neural Networks for Human Action Recognition by Ji et al.](https://ieeexplore.ieee.org/document/6165309)\n",
        "\n",
        "## Two-Stream Networks\n",
        "\n",
        "- **Use:** For a comprehensive analysis by considering both spatial and temporal information.\n",
        "- **Explanation:** This approach uses a dual-stream model, one for spatial features from single frames and another for temporal features from frame sequences, offering a balanced analysis.\n",
        "- **Foundational Paper:** [Two-stream convolutional networks for action recognition in videos by Simonyan & Zisserman.](https://arxiv.org/abs/1406.2199)\n",
        "\n",
        "\n",
        "## Transformers (e.g., Vision Transformers - ViT)\n",
        "\n",
        "- **Use:** For tasks where capturing long-range dependencies within videos is crucial.\n",
        "- **Explanation:** Adapting the attention mechanism from NLP, Vision Transformers process videos in a manner that emphasizes the interrelation of different parts of the video, both spatially and temporally.\n",
        "- **Foundational Papers:**\n",
        "  - General Transformers: [Attention is All You Need by Vaswani et al.](https://arxiv.org/abs/1706.03762)\n",
        "  - Vision Transformers: [An Image is Worth 16x16 Words: Transformers for Image Recognition at Scale by Dosovitskiy et al.](https://arxiv.org/abs/2010.11929)\n",
        "\n",
        "---\n"
      ],
      "metadata": {
        "id": "aCcq0xF_YBZR"
      }
    },
    {
      "cell_type": "markdown",
      "source": [
        "## Choosing Your Neural Architecture Template\n",
        "\n",
        "When selecting an architecture, consider the following:\n",
        "\n",
        "- **Nature of the Task:** Is your focus on understanding the content of individual frames (CNN), the movement between frames (RNN, 3D CNN), or a combination of both (Two-Stream, Transformers)?\n",
        "- **Complexity of the Video Data:** More complex data might benefit from architectures that can capture a wide range of dependencies, like Transformers.\n",
        "- **Computational Resources:** Some models, especially 3D CNNs and Transformers, are more computationally intensive than others.\n",
        "\n",
        "### Tips for Customization:\n",
        "\n",
        "- **Adjusting Parameters:** Tailor parameters like `frame_height`, `frame_width`, and `num_classes` according to your dataset.\n",
        "- **Preprocessing Needs:** Different architectures may require specific forms of input preprocessing. Ensure your data pipeline is compatible with your chosen model.\n",
        "\n",
        "After considering these aspects, select the architecture template that aligns with your project's goals from the list below. Each choice entails specific considerations for dataset dimensions and task specifications (e.g., classification, detection).\n",
        "\n",
        "1. **CNN for Spatial Features:** Ideal for projects focusing on frame-level analysis.\n",
        "2. **RNN/LSTM for Temporal Features:** Suited for understanding sequences and temporal patterns.\n",
        "3. **3D CNN for Spatio-Temporal Features:** Best for capturing actions and events over time.\n",
        "4. **Two-Stream Network:** Offers a comprehensive analysis by leveraging both spatial and temporal data.\n",
        "5. **Transformers:** For advanced projects requiring attention to complex patterns in large datasets.\n",
        "\n",
        "Remember to customize your model based on the specific needs of your dataset and the computational resources available to you."
      ],
      "metadata": {
        "id": "1snlAzZ-cxwI"
      }
    },
    {
      "cell_type": "markdown",
      "source": [
        "### Basic CNN Model for Spatial Feature Extraction\n",
        "\n",
        "This CNN model is structured to extract spatial features from individual video frames, making it suitable for image-based analysis tasks within videos. Below is the template for creating a basic CNN:"
      ],
      "metadata": {
        "id": "KkaJRq9B8EMH"
      }
    },
    {
      "cell_type": "code",
      "source": [
        "# Basic CNN Model for Spatial Feature Extraction\n",
        "\n",
        "import tensorflow as tf\n",
        "from tensorflow.keras import layers, models\n",
        "\n",
        "# Adjust these parameters to fit your dataset\n",
        "frame_height = 112  # Height of the video frame\n",
        "frame_width = 112   # Width of the video frame\n",
        "num_classes = 7    # Number of output classes\n",
        "\n",
        "# Basic CNN Model\n",
        "model_cnn = models.Sequential([\n",
        "    layers.Conv2D(32, (3, 3), activation='relu', input_shape=(frame_height, frame_width, 3)),\n",
        "    layers.MaxPooling2D((2, 2)),\n",
        "    layers.Conv2D(64, (3, 3), activation='relu'),\n",
        "    layers.MaxPooling2D((2, 2)),\n",
        "    layers.Conv2D(128, (3, 3), activation='relu'),\n",
        "    layers.Flatten(),\n",
        "    layers.Dense(64, activation='relu'),\n",
        "    layers.Dense(num_classes, activation='softmax'),\n",
        "])\n",
        "\n",
        "model_cnn.summary()\n",
        "\n",
        "# Compile the model\n",
        "model_cnn.compile(optimizer='adam',\n",
        "              loss='sparse_categorical_crossentropy',\n",
        "              metrics=['accuracy'])"
      ],
      "metadata": {
        "id": "-3SSfTJwYPlD"
      },
      "execution_count": null,
      "outputs": []
    },
    {
      "cell_type": "markdown",
      "source": [
        "### RNN/LSTM for Temporal Feature Extraction\n",
        "\n",
        "This cell demonstrates how to set up a Recurrent Neural Network (RNN) with Long Short-Term Memory (LSTM) layers. It's designed for extracting temporal features from sequences of video frames, which is crucial for understanding activities, actions, or any phenomena that evolve over time."
      ],
      "metadata": {
        "id": "rsu1iTZT7G0r"
      }
    },
    {
      "cell_type": "code",
      "source": [
        "# RNN/LSTM for Temporal Feature Extraction\n",
        "from tensorflow.keras import Sequential\n",
        "from tensorflow.keras.layers import LSTM, Dense\n",
        "\n",
        "# Adjust these parameters to fit your dataset\n",
        "timesteps = 100  # Length of your sequences\n",
        "features = 128   # Features extracted from each frame or timestep\n",
        "num_classes = 10 # Number of output classes\n",
        "\n",
        "# RNN Model with LSTM\n",
        "model_rnn = Sequential([\n",
        "    LSTM(64, input_shape=(timesteps, features), return_sequences=True),\n",
        "    LSTM(64),\n",
        "    Dense(64, activation='relu'),\n",
        "    Dense(num_classes, activation='softmax'),\n",
        "])\n",
        "\n",
        "model_rnn.summary()\n",
        "\n",
        "# Compile the model\n",
        "model_rnn.compile(optimizer='adam',\n",
        "              loss='categorical_crossentropy',\n",
        "              metrics=['accuracy'])"
      ],
      "metadata": {
        "id": "Uc_PvCXraxti"
      },
      "execution_count": null,
      "outputs": []
    },
    {
      "cell_type": "markdown",
      "source": [
        "### 3D CNN for Spatio-Temporal Feature Extraction\n",
        "\n",
        "This section introduces the setup for a 3D Convolutional Neural Network (3D CNN) designed to capture both spatial and temporal features from video clips. This model is capable of understanding motion and changes across consecutive frames, which is essential for tasks like action recognition.\n",
        "\n",
        "# 3D CNN for Spatio-Temporal Feature Extraction\n",
        "\n",
        "A 3D CNN extends the capabilities of traditional CNNs by analyzing sequences of frames to capture temporal dynamics alongside spatial features. Here's how to implement a 3D CNN model:"
      ],
      "metadata": {
        "id": "yKFCU0Os8M7t"
      }
    },
    {
      "cell_type": "code",
      "source": [
        "# 3D CNN for Spatio-Temporal Feature Extraction\n",
        "\n",
        "from tensorflow.keras import layers, models\n",
        "from tensorflow.keras.layers import Conv3D, MaxPooling3D, Flatten\n",
        "\n",
        "# Adjust these parameters to fit your dataset\n",
        "frames_per_clip = 16    # Number of frames per video clip\n",
        "frame_height = 112      # Height of the video frame\n",
        "frame_width = 112       # Width of the video frame\n",
        "num_channels = 3        # Number of color channels (RGB)\n",
        "num_classes = 10        # Number of output classes\n",
        "\n",
        "# 3D CNN Model\n",
        "model_3dcnn = models.Sequential([\n",
        "    Conv3D(64, (3, 3, 3), activation='relu',\n",
        "           input_shape=(frames_per_clip, frame_height, frame_width, num_channels)),\n",
        "    MaxPooling3D((2, 2, 2)),\n",
        "    Conv3D(128, (3, 3, 3), activation='relu'),\n",
        "    MaxPooling3D((2, 2, 2)),\n",
        "    Flatten(),\n",
        "    Dense(128, activation='relu'),\n",
        "    Dense(num_classes, activation='softmax'),\n",
        "])\n",
        "\n",
        "model_3dcnn.summary()\n",
        "\n",
        "# Compile the model\n",
        "model_3dcnn.compile(optimizer='adam',\n",
        "                    loss='categorical_crossentropy',\n",
        "                    metrics=['accuracy'])"
      ],
      "metadata": {
        "id": "WUSdQxatbGNu"
      },
      "execution_count": null,
      "outputs": []
    },
    {
      "cell_type": "markdown",
      "source": [
        "### Two-Stream Networks for Video Analysis\n",
        "\n",
        "Implementing a two-stream network involves creating and training two separate models: one focused on spatial features (using a CNN) and another on temporal features (using either a 3D CNN or an RNN). The predictions from these models are then combined to produce a final output. This combination can be achieved through simple averaging or a more complex learned fusion layer.\n",
        "\n",
        "**Note:** This approach is conceptual, and specific implementation details will vary based on your project's needs.\n",
        "\n",
        "### Implementation Overview:\n",
        "\n",
        "- **For Spatial Features:** Utilize the CNN model outlined earlier.\n",
        "- **For Temporal Features:** Employ either the 3D CNN model or an RNN model, depending on the nature of your data and the specific temporal dynamics you wish to capture.\n",
        "- **Combining Models:** A straightforward method to combine these models is to average their predictions:"
      ],
      "metadata": {
        "id": "UCFBG3Xu4GwG"
      }
    },
    {
      "cell_type": "code",
      "source": [
        "# Example of combining predictions\n",
        "predictions = 0.5 * cnn_model.predict(spatial_data) + 0.5 * temporal_model.predict(temporal_data)"
      ],
      "metadata": {
        "id": "0AZVrSh4bOdg"
      },
      "execution_count": null,
      "outputs": []
    },
    {
      "cell_type": "markdown",
      "source": [
        "### Vision Transformers for Video Processing\n",
        "\n",
        "Transformers have revolutionized natural language processing and are now making significant inroads into computer vision, including video processing tasks. Vision Transformers (ViT) apply the transformer architecture to image patches, treating each patch as a token similar to how words are treated in NLP. This method allows for capturing complex spatial hierarchies and has been extended to video processing to handle temporal dynamics as well.\n",
        "\n",
        "# Transformers for Video Processing (Vision Transformers - ViT)\n",
        "\n",
        "Vision Transformers (ViT) represent a novel approach in leveraging transformer architectures for video processing tasks. By decomposing video frames into a sequence of patches and processing these patches as tokens, ViTs can capture intricate spatial-temporal relationships within the video content.\n",
        "\n",
        "### Preliminary Steps:\n",
        "\n",
        "- **Base Model for Feature Extraction:** Leveraging pre-trained models like EfficientNet as a starting point for extracting features from video frames can be beneficial. These features then serve as inputs to the transformer model."
      ],
      "metadata": {
        "id": "3xxpEyRR6AMq"
      }
    },
    {
      "cell_type": "code",
      "source": [
        "# Transformers for Video Processing (Vision Transformers - ViT)\n",
        "\n",
        "from tensorflow.keras.applications import EfficientNetB0\n",
        "from vit_keras import vit\n",
        "\n",
        "# Example for loading a pre-trained model\n",
        "base_model = EfficientNetB0(include_top=False, weights='imagenet')"
      ],
      "metadata": {
        "id": "4ToSvDVLbRUW"
      },
      "execution_count": null,
      "outputs": []
    },
    {
      "cell_type": "markdown",
      "source": [
        "# 7. Training and Monitoring the Model\n",
        "\n",
        "Training your machine learning model is a crucial step where the model learns to recognize patterns from the data. To track the model's progress and ensure that we save the best version, we'll employ callbacks like `ModelCheckpoint` and `TensorBoard`.\n"
      ],
      "metadata": {
        "id": "wTVzLBdDlt_k"
      }
    },
    {
      "cell_type": "code",
      "source": [
        "from tensorflow.keras.callbacks import ModelCheckpoint, TensorBoard\n",
        "import numpy as np\n",
        "\n",
        "# Loading the dataset splits\n",
        "data = np.load('/content/dataset_splits.npz') # Adjust according to your dataset path\n",
        "X_train = data['X_train']\n",
        "X_val = data['X_val']\n",
        "y_train = data['y_train']\n",
        "y_val = data['y_val']\n",
        "\n",
        "# Setup callbacks\n",
        "checkpoint_cb = ModelCheckpoint('best_model.h5', save_best_only=True)\n",
        "tensorboard_cb = TensorBoard(log_dir='./logs')\n",
        "\n",
        "# Train the model\n",
        "history = model_cnn.fit(\n",
        "    X_train, y_train,\n",
        "    epochs=12,\n",
        "    batch_size=32,\n",
        "    validation_data=(X_val, y_val),\n",
        "    callbacks=[checkpoint_cb, tensorboard_cb]\n",
        ")"
      ],
      "metadata": {
        "id": "dbPToovalwOP"
      },
      "execution_count": null,
      "outputs": []
    },
    {
      "cell_type": "code",
      "source": [
        "# Enabling TensorBoard within the notebook environment\n",
        "%load_ext tensorboard\n",
        "%tensorboard --logdir ./logs"
      ],
      "metadata": {
        "id": "FFUXSfwo7My5"
      },
      "execution_count": null,
      "outputs": []
    },
    {
      "cell_type": "markdown",
      "source": [
        "# 8. Hyperparameter Tuning\n",
        "\n",
        "Hyperparameter tuning is a pivotal phase in the machine learning pipeline. This process involves optimizing the model's architecture and the training procedure to maximize its performance. Hyperparameters, unlike the model's internal parameters learned during training, need to be set beforehand and have a substantial impact on the model's learning efficiency and output quality.\n",
        "\n",
        "Commonly tuned hyperparameters include:\n",
        "- **Learning Rate**: Controls how much to adjust the model in response to the estimated error each time the model weights are updated.\n",
        "- **Batch Size**: Number of training examples utilized in one iteration.\n",
        "- **Number of Epochs**: Total number of times the training dataset is passed forward and backward through the neural network.\n",
        "- **Architecture-Specific Parameters**: Such as the number of layers or units in a layer, which can vary significantly across different models.\n",
        "\n",
        "### Approaches to Hyperparameter Tuning:\n",
        "\n",
        "1. **Manual Tuning**: Relying on experience and intuition to adjust hyperparameters.\n",
        "2. **Grid Search**: Exhaustively searching through a predefined list of hyperparameter values.\n",
        "3. **Random Search**: Randomly selecting hyperparameter values from a defined range and evaluating their performance.\n",
        "4. **Bayesian Optimization**: Using probabilistic models to guide the search for the optimum hyperparameters.\n",
        "5. **Automated Tools**: Leveraging tools like Keras Tuner or Hyperopt to automate the tuning process.\n",
        "\n",
        "### Implementing Hyperparameter Tuning:\n",
        "\n",
        "For practical hyperparameter tuning, consider starting with either Grid Search or Random Search as they are straightforward to implement and can yield significant improvements:\n",
        "\n",
        "---"
      ],
      "metadata": {
        "id": "mfOP6GAlS7aW"
      }
    },
    {
      "cell_type": "markdown",
      "source": [
        "### Manual Tuning Approach\n",
        "\n",
        "1. **Start with a baseline model**: Set up your model with a default set of hyperparameters.\n",
        "2. **Identify key hyperparameters**: Focus on those most likely to impact performance, such as learning rate or the number of layers.\n",
        "3. **Iteratively adjust values**: Manually change one hyperparameter at a time and monitor the effect on model performance.\n",
        "4. **Use a systematic approach**: Keep a log of changes and results to guide future adjustments.\n",
        "5. **Refinement**: Once the model shows improvement, refine your search around the best-performing values."
      ],
      "metadata": {
        "id": "wlCsjVKiAQah"
      }
    },
    {
      "cell_type": "markdown",
      "source": [
        "### Grid Search Template\n",
        "\n",
        "Grid Search exhaustively tests a predefined range of hyperparameter values, ensuring that you explore all possible combinations within your specified grid. This method is particularly useful when the number of hyperparameters and their potential values are relatively low."
      ],
      "metadata": {
        "id": "hd3YJqPaFre4"
      }
    },
    {
      "cell_type": "code",
      "source": [
        "from sklearn.model_selection import GridSearchCV\n",
        "from keras.wrappers.scikit_learn import KerasClassifier\n",
        "\n",
        "# Assume 'build_model' is a function that constructs a Keras model\n",
        "def build_model(optimizer='adam'):\n",
        "    model = Sequential()\n",
        "    model.add(Dense(12, input_shape=(input_dim,), activation='relu'))\n",
        "    model.add(Dense(num_classes, activation='softmax'))\n",
        "    model.compile(optimizer=optimizer, loss='categorical_crossentropy', metrics=['accuracy'])\n",
        "    return model\n",
        "\n",
        "model = KerasClassifier(build_fn=build_model)\n",
        "\n",
        "param_grid = {\n",
        "    'epochs': [10, 20],\n",
        "    'batch_size': [16, 32],\n",
        "    'optimizer': ['adam', 'rmsprop']\n",
        "}\n",
        "\n",
        "grid = GridSearchCV(estimator=model, param_grid=param_grid, n_jobs=-1, cv=3)\n",
        "grid_result = grid.fit(X_train, y_train)\n",
        "\n",
        "# Access the best set of parameters\n",
        "best_params = grid_result.best_params_"
      ],
      "metadata": {
        "id": "NUnBYKDEAjea"
      },
      "execution_count": null,
      "outputs": []
    },
    {
      "cell_type": "markdown",
      "source": [
        "### Random Search Template\n",
        "\n",
        "Random Search optimizes hyperparameters by sampling values from a defined distribution. This method can be more efficient than Grid Search, particularly when the hyperparameter space is large."
      ],
      "metadata": {
        "id": "nLjTu-32F_Kg"
      }
    },
    {
      "cell_type": "code",
      "source": [
        "from sklearn.model_selection import RandomizedSearchCV\n",
        "from keras.wrappers.scikit_learn import KerasClassifier\n",
        "\n",
        "def build_model(optimizer='adam'):\n",
        "    # Model construction (omitted for brevity)\n",
        "    return model\n",
        "\n",
        "model = KerasClassifier(build_fn=build_model, epochs=20, batch_size=32)\n",
        "\n",
        "param_dist = {\n",
        "    'batch_size': [16, 32, 64],\n",
        "    'epochs': [10, 20, 30],\n",
        "    'optimizer': ['adam', 'rmsprop']\n",
        "}\n",
        "\n",
        "random_search = RandomizedSearchCV(estimator=model, param_distributions=param_dist, n_iter=10, n_jobs=-1, cv=3)\n",
        "random_search_result = random_search.fit(X_train, y_train)\n",
        "\n",
        "# Best parameters\n",
        "best_params = random_search_result.best_params_"
      ],
      "metadata": {
        "id": "35b3pOd3FMtZ"
      },
      "execution_count": null,
      "outputs": []
    },
    {
      "cell_type": "markdown",
      "source": [
        "### Bayesian Optimization Template\n",
        "\n",
        "Bayesian Optimization leverages a probabilistic model to select hyperparameters that are likely to yield better results. This method is efficient for finding optimal hyperparameters with fewer trials, making it ideal for complex models."
      ],
      "metadata": {
        "id": "BqrmAtNxGMPN"
      }
    },
    {
      "cell_type": "code",
      "source": [
        "from hyperopt import hp, fmin, tpe, STATUS_OK, Trials\n",
        "from keras.models import Sequential\n",
        "from keras.layers import Dense\n",
        "from keras.optimizers import Adam\n",
        "\n",
        "def objective(space):\n",
        "    model = Sequential()\n",
        "    model.add(Dense(units=int(space['units']), input_dim=input_dim, activation='relu'))\n",
        "    model.add(Dense(num_classes, activation='softmax'))\n",
        "    model.compile(optimizer=Adam(learning_rate=space['learning_rate']),\n",
        "                  loss='categorical_crossentropy', metrics=['accuracy'])\n",
        "\n",
        "    history = model.fit(X_train, y_train, epochs=20, batch_size=int(space['batch_size']), verbose=0)\n",
        "\n",
        "    val_loss = np.min(history.history['val_loss'])\n",
        "    return {'loss': val_loss, 'status': STATUS_OK}\n",
        "\n",
        "space = {\n",
        "    'units': hp.quniform('units', 50, 150, 1),\n",
        "    'batch_size': hp.choice('batch_size', [16, 32, 64]),\n",
        "    'learning_rate': hp.loguniform('learning_rate', np.log(0.0001), np.log(0.01)),\n",
        "}\n",
        "\n",
        "trials = Trials()\n",
        "best = fmin(fn=objective,\n",
        "            space=space,\n",
        "            algo=tpe.suggest,\n",
        "            max_evals=100,\n",
        "            trials=trials)\n",
        "\n",
        "best_params = space_eval(space, best)"
      ],
      "metadata": {
        "id": "MaBKp3nZFSUE"
      },
      "execution_count": null,
      "outputs": []
    },
    {
      "cell_type": "markdown",
      "source": [
        "### Hyperparameter Tuning with Keras Tuner\n",
        "\n",
        "Keras Tuner simplifies the task of finding the best hyperparameters for your model. The example below outlines how to use Keras Tuner to optimize a Convolutional Neural Network (CNN) architecture."
      ],
      "metadata": {
        "id": "9L7zyrb--run"
      }
    },
    {
      "cell_type": "code",
      "source": [
        "from keras_tuner import RandomSearch\n",
        "from tensorflow.keras.optimizers import Adam\n",
        "from tensorflow.keras.models import Sequential\n",
        "from tensorflow.keras.layers import Dense, Conv2D, MaxPooling2D, Flatten\n",
        "\n",
        "input_shape = (112, 112, 3)  # Example input shape; adjust as necessary\n",
        "num_classes = 10  # Adjust based on your dataset\n",
        "\n",
        "# Function to build the model (required for Keras Tuner)\n",
        "def build_model(hp):\n",
        "    model = Sequential()\n",
        "    model.add(Conv2D(filters=hp.Int('conv_filters', min_value=32, max_value=128, step=32),\n",
        "                     kernel_size=hp.Choice('conv_kernel_size', values=[3, 5]),\n",
        "                     activation='relu',\n",
        "                     input_shape=input_shape))\n",
        "    model.add(MaxPooling2D())\n",
        "    model.add(Flatten())\n",
        "    model.add(Dense(units=hp.Int('dense_units', min_value=32, max_value=128, step=32),\n",
        "                    activation='relu'))\n",
        "    model.add(Dense(num_classes, activation='softmax'))\n",
        "\n",
        "    hp_learning_rate = hp.Float('learning_rate', min_value=1e-4, max_value=1e-2, sampling='LOG')\n",
        "\n",
        "    model.compile(optimizer=Adam(learning_rate=hp_learning_rate),\n",
        "                  loss='categorical_crossentropy',\n",
        "                  metrics=['accuracy'])\n",
        "    return model\n",
        "\n",
        "# Initialize the tuner\n",
        "tuner = RandomSearch(\n",
        "    build_model,\n",
        "    objective='val_accuracy',\n",
        "    max_trials=10,\n",
        "    executions_per_trial=1,\n",
        "    directory='my_dir',\n",
        "    project_name='hparam_tuning'\n",
        ")\n",
        "\n",
        "# Perform the search\n",
        "tuner.search(X_train, y_train, epochs=10, validation_data=(X_val, y_val))\n",
        "\n",
        "# Retrieve the best hyperparameters\n",
        "best_hps = tuner.get_best_hyperparameters()[0]\n",
        "print(f\"\"\"\n",
        "The optimal number of units in the first dense layer is {best_hps.get('dense_units')} and the\n",
        "optimal learning rate for the optimizer is {best_hps.get('learning_rate')}.\n",
        "\"\"\")\n",
        "\n",
        "# Rebuild the model with the best hyperparameters and train it\n",
        "model = tuner.hypermodel.build(best_hps)\n",
        "history = model.fit(X_train, y_train, epochs=50, validation_data=(X_val, y_val))"
      ],
      "metadata": {
        "id": "IAj1IU7JYyga"
      },
      "execution_count": null,
      "outputs": []
    },
    {
      "cell_type": "markdown",
      "source": [
        "# 9. Evaluating the Model\n",
        "\n",
        "After training, it's crucial to evaluate your model on the test set to understand its performance on unseen data. This step gives you insights into how well your model has learned and generalized from the training data.\n"
      ],
      "metadata": {
        "id": "uFSCmiR4mAoN"
      }
    },
    {
      "cell_type": "code",
      "source": [
        "# Evaluate the model on the test set\n",
        "y_test = np.array(y_test)\n",
        "\n",
        "test_loss, test_acc = model_cnn.evaluate(X_test, y_test)\n",
        "print(f\"Test accuracy: {test_acc:.2f}\")"
      ],
      "metadata": {
        "id": "jq40-ytbmBSF"
      },
      "execution_count": null,
      "outputs": []
    },
    {
      "cell_type": "markdown",
      "source": [
        "## Implementing Regularization Techniques\n",
        "\n",
        "Regularization techniques are critical in preventing overfitting, especially when you have a high-capacity model or limited data. Overfitting occurs when a model learns the noise in the training data to the extent that it negatively impacts the performance of the model on new data. Regularization methods provide ways to penalize model complexity or introduce noise to the training process to promote the generalizability of the model.\n",
        "\n",
        "There are several regularization techniques:\n",
        "- **L1 and L2 Regularization**: Penalizes the weights of the model during training, which can help to prevent overfitting by encouraging simpler models that may generalize better.\n",
        "- **Dropout**: Randomly sets a fraction of input units to 0 at each update during training time, which helps to prevent overfitting by making the neural network less sensitive to the specific weights of neurons.\n",
        "- **Batch Normalization**: Although primarily used to normalize the input layer by adjusting and scaling the activations, it can also have a regularizing effect.\n",
        "- **Early Stopping**: Monitors the model's performance on a validation set and stops training when performance begins to degrade.\n",
        "\n",
        "In the following code cells, we will add L2 regularization and dropout to our neural network to help with overfitting. We'll also implement early stopping to halt the training process at the optimal moment.\n",
        "\n",
        "\n"
      ],
      "metadata": {
        "id": "QpMbGniVTMOk"
      }
    },
    {
      "cell_type": "code",
      "source": [
        "from tensorflow.keras import regularizers\n",
        "from tensorflow.keras.callbacks import EarlyStopping\n",
        "\n",
        "# Modify your model definition to include L2 regularization and dropout\n",
        "def build_regularized_model():\n",
        "    model = models.Sequential([\n",
        "        layers.Conv2D(32, (3, 3), activation='relu', input_shape=(frame_height, frame_width, 3)),\n",
        "        layers.MaxPooling2D((2, 2)),\n",
        "        layers.Conv2D(64, (3, 3), activation='relu', kernel_regularizer=regularizers.l2(0.001)),  # L2 Regularization\n",
        "        layers.MaxPooling2D((2, 2)),\n",
        "        layers.Conv2D(128, (3, 3), activation='relu'),\n",
        "        layers.Flatten(),\n",
        "        layers.Dense(64, activation='relu'),\n",
        "        layers.Dropout(0.5),  # Dropout layer\n",
        "        layers.Dense(num_classes, activation='softmax'),\n",
        "    ])\n",
        "\n",
        "    model.compile(optimizer='adam',\n",
        "                  loss='categorical_crossentropy',\n",
        "                  metrics=['accuracy'])\n",
        "    return model\n",
        "\n",
        "# Instantiate the regularized model\n",
        "model_regularized = build_regularized_model()\n",
        "\n",
        "# Include an EarlyStopping callback\n",
        "early_stopping_cb = EarlyStopping(monitor='val_loss', patience=10, restore_best_weights=True)\n",
        "\n",
        "# Train the model with early stopping\n",
        "history_regularized = model_regularized.fit(\n",
        "    X_train, y_train,\n",
        "    epochs=100,  # Set a high epoch limit; training may stop early\n",
        "    batch_size=32,\n",
        "    validation_data=(X_val, y_val),\n",
        "    callbacks=[checkpoint_cb, tensorboard_cb, early_stopping_cb]  # Add early stopping to your list of callbacks\n",
        ")\n",
        "\n",
        "# Evaluate the regularized model on the test set\n",
        "test_loss_reg, test_acc_reg = model_regularized.evaluate(X_test, y_test)\n",
        "print(f\"Test accuracy with regularization: {test_acc_reg:.2f}\")"
      ],
      "metadata": {
        "id": "PLIDKt9ZZXdh"
      },
      "execution_count": null,
      "outputs": []
    },
    {
      "cell_type": "markdown",
      "source": [
        "## Preparing for Fine-Tuning (if needed)\n",
        "\n",
        "To fine-tune your model, identify which layers need adjustment and set a lower learning rate for fine-tuning. This approach delicately refines the model's ability to adapt to your specific dataset."
      ],
      "metadata": {
        "id": "n9YozC24nyUM"
      }
    },
    {
      "cell_type": "code",
      "source": [
        "# Example for a model with a pre-trained base\n",
        "for layer in model.layers[:layer_to_freeze]:\n",
        "    layer.trainable = False  # Freeze layers not intended for fine-tuning\n",
        "for layer in model.layers[layer_to_freeze:]:\n",
        "    layer.trainable = True  # Unfreeze layers for fine-tuning\n",
        "\n",
        "# Adjust the learning rate for fine-tuning\n",
        "optimizer = tf.keras.optimizers.Adam(learning_rate=1e-5)  # Lower learning rate\n",
        "model.compile(optimizer=optimizer, loss='categorical_crossentropy', metrics=['accuracy'])\n",
        "\n",
        "# Summarize the model post adjustments to verify changes\n",
        "model.summary()"
      ],
      "metadata": {
        "id": "lGkv5IT1ny87"
      },
      "execution_count": null,
      "outputs": []
    },
    {
      "cell_type": "code",
      "source": [
        "# Fine-Tuning the Model With the model adjusted for fine-tuning,\n",
        "# continue training to refine its performance on the dataset. Monitor the training process closely to ensure improvements.\n",
        "\n",
        "# Continue training the model\n",
        "history_fine = model.fit(\n",
        "    X_train, y_train,\n",
        "    epochs=10,  # Adjust epochs based on when performance plateaus\n",
        "    batch_size=32,\n",
        "    validation_data=(X_val, y_val),\n",
        "    callbacks=[checkpoint_cb, tensorboard_cb]  # Reuse callbacks from initial training\n",
        ")"
      ],
      "metadata": {
        "id": "pnhidTZwoB4K"
      },
      "execution_count": null,
      "outputs": []
    },
    {
      "cell_type": "markdown",
      "source": [
        "## Evaluating the Model Post Fine-Tuning\n",
        "\n",
        "After fine-tuning, evaluate the model again on the test set to assess any improvements. This step helps understand the effectiveness of your fine-tuning efforts.\n"
      ],
      "metadata": {
        "id": "MreWcG6_ol7x"
      }
    },
    {
      "cell_type": "code",
      "source": [
        "# Evaluate the model again\n",
        "test_loss, test_acc = model_cnn.evaluate(X_test, y_test)\n",
        "print(f\"Post Fine-Tuning Test Accuracy: {test_acc:.2f}\")"
      ],
      "metadata": {
        "id": "DfzE2yYZonpw"
      },
      "execution_count": null,
      "outputs": []
    },
    {
      "cell_type": "markdown",
      "source": [
        "## Saving the Trained Model\n",
        "\n",
        "After training and fine-tuning, save your model to reuse it later without needing to retrain. This step is crucial for deployment."
      ],
      "metadata": {
        "id": "5CfDUZjtq3fx"
      }
    },
    {
      "cell_type": "code",
      "source": [
        "import os\n",
        "\n",
        "# Save the entire model to an H5 file\n",
        "model_cnn.save('my_model.h5')\n",
        "\n",
        "# Check if the model file exists in the current directory\n",
        "if os.path.exists('my_model.h5'):\n",
        "    print('Model saved successfully as my_model.h5')\n",
        "else:\n",
        "    print('Model saving failed.')"
      ],
      "metadata": {
        "id": "519WwJCvq4Cs"
      },
      "execution_count": null,
      "outputs": []
    },
    {
      "cell_type": "markdown",
      "source": [
        "## Model Loading and Inference"
      ],
      "metadata": {
        "id": "cYRh1nzRTlgW"
      }
    },
    {
      "cell_type": "code",
      "source": [],
      "metadata": {
        "id": "CF5DeERgT3bO"
      },
      "execution_count": null,
      "outputs": []
    }
  ]
}